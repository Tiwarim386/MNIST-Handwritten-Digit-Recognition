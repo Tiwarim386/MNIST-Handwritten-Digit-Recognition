{
 "cells": [
  {
   "cell_type": "markdown",
   "metadata": {},
   "source": [
    "# Handwritten Digits Classifier\n",
    "\n",
    "\n",
    "\n",
    "\n"
   ]
  },
  {
   "cell_type": "markdown",
   "metadata": {},
   "source": [
    "\n"
   ]
  },
  {
   "cell_type": "code",
   "execution_count": 11,
   "metadata": {},
   "outputs": [],
   "source": [
    "import torch\n",
    "from torch import nn\n",
    "import torch.nn.functional as F\n",
    "from torchvision import datasets, transforms\n",
    "\n",
    "# Defining transform to normalize the data\n",
    "transform = transforms.Compose([transforms.ToTensor(),\n",
    "                                transforms.Normalize((0.5, 0.5, 0.5), (0.5, 0.5, 0.5)),\n",
    "                              ])\n",
    "# Downloading and loading the training data\n",
    "trainset = datasets.MNIST('~/.pytorch/MNIST_data/', download=True, train=True, transform=transform)\n",
    "trainloader = torch.utils.data.DataLoader(trainset, batch_size=64, shuffle=True)"
   ]
  },
  {
   "cell_type": "code",
   "execution_count": 12,
   "metadata": {},
   "outputs": [],
   "source": [
    "# Building a feed-forward network\n",
    "model = nn.Sequential(nn.Linear(784, 128),\n",
    "                      nn.ReLU(),\n",
    "                      nn.Linear(128, 64),\n",
    "                      nn.ReLU(),\n",
    "                      nn.Linear(64, 10),\n",
    "                      nn.LogSoftmax(dim=1))\n",
    "\n",
    "criterion = nn.NLLLoss()\n",
    "images, labels = next(iter(trainloader))\n",
    "images = images.view(images.shape[0], -1)\n",
    "\n",
    "logps = model(images)\n",
    "loss = criterion(logps, labels)"
   ]
  },
  {
   "cell_type": "code",
   "execution_count": 13,
   "metadata": {},
   "outputs": [
    {
     "name": "stdout",
     "output_type": "stream",
     "text": [
      "Before backward pass: \n",
      " None\n",
      "After backward pass: \n",
      " tensor(1.00000e-02 *\n",
      "       [[-0.1321, -0.1321, -0.1321,  ..., -0.1321, -0.1321, -0.1321],\n",
      "        [-0.3873, -0.3873, -0.3873,  ..., -0.3873, -0.3873, -0.3873],\n",
      "        [-0.3037, -0.3037, -0.3037,  ..., -0.3037, -0.3037, -0.3037],\n",
      "        ...,\n",
      "        [-0.7661, -0.7661, -0.7661,  ..., -0.7661, -0.7661, -0.7661],\n",
      "        [-0.4088, -0.4088, -0.4088,  ..., -0.4088, -0.4088, -0.4088],\n",
      "        [ 0.0417,  0.0417,  0.0417,  ...,  0.0417,  0.0417,  0.0417]])\n"
     ]
    }
   ],
   "source": [
    "print('Before backward pass: \\n', model[0].weight.grad)\n",
    "\n",
    "loss.backward()\n",
    "\n",
    "print('After backward pass: \\n', model[0].weight.grad)"
   ]
  },
  {
   "cell_type": "markdown",
   "metadata": {},
   "source": [
    "## Training the network!\n"
   ]
  },
  {
   "cell_type": "code",
   "execution_count": 14,
   "metadata": {},
   "outputs": [],
   "source": [
    "from torch import optim\n",
    "\n",
    "optimizer = optim.SGD(model.parameters(), lr=0.01)"
   ]
  },
  {
   "cell_type": "code",
   "execution_count": 15,
   "metadata": {},
   "outputs": [
    {
     "name": "stdout",
     "output_type": "stream",
     "text": [
      "Initial weights -  Parameter containing:\n",
      "tensor([[ 2.4840e-02, -2.6884e-02, -2.0596e-02,  ...,  4.5712e-03,\n",
      "         -2.1391e-02, -2.4442e-02],\n",
      "        [ 2.9066e-02, -2.0584e-02,  3.6804e-03,  ...,  5.3506e-03,\n",
      "          2.4278e-02,  3.0704e-02],\n",
      "        [ 2.8318e-02, -1.2791e-03,  2.0885e-03,  ..., -2.3265e-02,\n",
      "         -2.1992e-02, -1.1485e-02],\n",
      "        ...,\n",
      "        [ 4.6471e-03, -4.2645e-03, -3.2709e-02,  ...,  1.9057e-02,\n",
      "          4.8022e-03,  8.9815e-03],\n",
      "        [ 1.5660e-02,  2.8270e-02,  7.3760e-03,  ..., -3.2368e-02,\n",
      "          2.2255e-02,  2.3497e-02],\n",
      "        [-2.4798e-03,  4.6797e-03, -1.1077e-02,  ..., -2.9744e-02,\n",
      "         -1.0008e-02, -1.1611e-03]])\n",
      "Gradient - tensor(1.00000e-02 *\n",
      "       [[-0.0895, -0.0895, -0.0895,  ..., -0.0895, -0.0895, -0.0895],\n",
      "        [-0.1286, -0.1286, -0.1286,  ..., -0.1286, -0.1286, -0.1286],\n",
      "        [-0.2071, -0.2071, -0.2071,  ..., -0.2071, -0.2071, -0.2071],\n",
      "        ...,\n",
      "        [-0.2959, -0.2959, -0.2959,  ..., -0.2959, -0.2959, -0.2959],\n",
      "        [-0.0423, -0.0423, -0.0423,  ..., -0.0423, -0.0423, -0.0423],\n",
      "        [-0.0484, -0.0484, -0.0484,  ..., -0.0484, -0.0484, -0.0484]])\n"
     ]
    }
   ],
   "source": [
    "print('Initial weights - ', model[0].weight)\n",
    "\n",
    "images, labels = next(iter(trainloader))\n",
    "images.resize_(64, 784)\n",
    "\n",
    "# Clearing the gradients, \n",
    "optimizer.zero_grad()\n",
    "\n",
    "# Forward pass, then backward pass, then update weights\n",
    "output = model.forward(images)\n",
    "loss = criterion(output, labels)\n",
    "loss.backward()\n",
    "print('Gradient -', model[0].weight.grad)"
   ]
  },
  {
   "cell_type": "code",
   "execution_count": 16,
   "metadata": {},
   "outputs": [
    {
     "name": "stdout",
     "output_type": "stream",
     "text": [
      "Updated weights -  Parameter containing:\n",
      "tensor([[ 2.4849e-02, -2.6875e-02, -2.0587e-02,  ...,  4.5802e-03,\n",
      "         -2.1382e-02, -2.4433e-02],\n",
      "        [ 2.9079e-02, -2.0571e-02,  3.6932e-03,  ...,  5.3634e-03,\n",
      "          2.4291e-02,  3.0717e-02],\n",
      "        [ 2.8339e-02, -1.2584e-03,  2.1092e-03,  ..., -2.3244e-02,\n",
      "         -2.1971e-02, -1.1464e-02],\n",
      "        ...,\n",
      "        [ 4.6767e-03, -4.2349e-03, -3.2680e-02,  ...,  1.9086e-02,\n",
      "          4.8318e-03,  9.0111e-03],\n",
      "        [ 1.5665e-02,  2.8274e-02,  7.3803e-03,  ..., -3.2363e-02,\n",
      "          2.2260e-02,  2.3501e-02],\n",
      "        [-2.4749e-03,  4.6846e-03, -1.1073e-02,  ..., -2.9739e-02,\n",
      "         -1.0003e-02, -1.1563e-03]])\n"
     ]
    }
   ],
   "source": [
    "# update step \n",
    "optimizer.step()\n",
    "print('Updated weights - ', model[0].weight)"
   ]
  },
  {
   "cell_type": "markdown",
   "metadata": {},
   "source": [
    "### Training for real\n",
    "\n"
   ]
  },
  {
   "cell_type": "code",
   "execution_count": 17,
   "metadata": {},
   "outputs": [
    {
     "name": "stdout",
     "output_type": "stream",
     "text": [
      "Training loss: 1.9351896689390577\n",
      "Training loss: 0.9212276946697662\n",
      "Training loss: 0.5351154313190405\n",
      "Training loss: 0.42966633752337907\n",
      "Training loss: 0.3855370813563688\n"
     ]
    }
   ],
   "source": [
    "model = nn.Sequential(nn.Linear(784, 128),\n",
    "                      nn.ReLU(),\n",
    "                      nn.Linear(128, 64),\n",
    "                      nn.ReLU(),\n",
    "                      nn.Linear(64, 10),\n",
    "                      nn.LogSoftmax(dim=1))\n",
    "\n",
    "criterion = nn.NLLLoss()\n",
    "optimizer = optim.SGD(model.parameters(), lr=0.003)\n",
    "\n",
    "# training for 5 epochs\n",
    "\n",
    "epochs = 5\n",
    "for e in range(epochs):\n",
    "    running_loss = 0\n",
    "    for images, labels in trainloader:\n",
    "       \n",
    "        images = images.view(images.shape[0], -1)\n",
    "    \n",
    "        \n",
    "        optimizer.zero_grad()\n",
    "        \n",
    "        output = model.forward(images)\n",
    "        loss = criterion(output, labels)\n",
    "        loss.backward()\n",
    "        optimizer.step()\n",
    "        \n",
    "        running_loss += loss.item()\n",
    "    else:\n",
    "        print(f\"Training loss: {running_loss/len(trainloader)}\")"
   ]
  },
  {
   "cell_type": "markdown",
   "metadata": {},
   "source": [
    "Now checking out it's predictions."
   ]
  },
  {
   "cell_type": "code",
   "execution_count": 18,
   "metadata": {},
   "outputs": [
    {
     "data": {
      "image/png": "[encoded data removed]",
      "text/plain": [
       "<matplotlib.figure.Figure at 0x7fee6d4e6c88>"
      ]
     },
     "metadata": {
      "needs_background": "light"
     },
     "output_type": "display_data"
    }
   ],
   "source": [
    "%matplotlib inline\n",
    "import helper\n",
    "\n",
    "images, labels = next(iter(trainloader))\n",
    "\n",
    "img = images[0].view(1, 784)\n",
    "\n",
    "with torch.no_grad():\n",
    "    logps = model.forward(img)\n",
    "\n",
    "\n",
    "ps = torch.exp(logps)\n",
    "helper.view_classify(img.view(1, 28, 28), ps)"
   ]
  },
  {
   "cell_type": "markdown",
   "metadata": {},
   "source": [
    "Accurate Prediction\n"
   ]
  }
 ],
 "metadata": {
  "kernelspec": {
   "display_name": "Python 3",
   "language": "python",
   "name": "python3"
  },
  "language_info": {
   "codemirror_mode": {
    "name": "ipython",
    "version": 3
   },
   "file_extension": ".py",
   "mimetype": "text/x-python",
   "name": "python",
   "nbconvert_exporter": "python",
   "pygments_lexer": "ipython3",
   "version": "3.6.3"
  }
 },
 "nbformat": 4,
 "nbformat_minor": 2
}
